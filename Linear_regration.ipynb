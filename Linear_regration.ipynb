{
 "cells": [
  {
   "cell_type": "code",
   "execution_count": 1,
   "metadata": {},
   "outputs": [],
   "source": [
    "data_size = 20\n",
    "test_size = int(data_size*0.25)\n",
    "train_size = int(data_size*0.75)\n",
    "import numpy as np\n",
    "\n",
    "# x = np.linspace(0,1,data_size)\n",
    "# ε = np.random.normal(0,0.04,size=(data_size))\n",
    "# y = np.sin(2 * np.pi * x) + 10 * ε\n",
    "\n",
    "# x = np.linspace(-3,3,data_size)\n",
    "# ε = np.random.normal(0,1,size=(data_size))\n",
    "# y = 2 * x + ε\n",
    "\n",
    "x = np.linspace(0,1,data_size)\n",
    "ε = np.random.normal(0,1,size=(data_size))\n",
    "y = 2 * x + ε\n"
   ]
  },
  {
   "cell_type": "code",
   "execution_count": 2,
   "metadata": {},
   "outputs": [],
   "source": [
    "from sklearn.model_selection import train_test_split\n",
    "X_train, X_test, y_train, y_test = train_test_split(x, y,test_size=0.25,random_state =3 ,shuffle=True)\n",
    "\n",
    "pol = 5\n",
    "def power_mat(x,pol):\n",
    "    pol += 1\n",
    "    matrix = np.array([])\n",
    "    for i in range(len(x)):\n",
    "        tmp_lst = []\n",
    "        for p in reversed(range(pol)):\n",
    "            tmp_lst += [x[i] ** p]\n",
    "        matrix = np.append(matrix, np.array(tmp_lst))\n",
    "    matrix = matrix.reshape(-1, pol)\n",
    "    return matrix\n",
    "    \n",
    "X_train = power_mat (X_train,pol)\n",
    "X_test = power_mat (X_test,pol)"
   ]
  },
  {
   "cell_type": "code",
   "execution_count": 3,
   "metadata": {},
   "outputs": [],
   "source": [
    "def Linear_Regression(x, y):\n",
    "    return np.dot(np.linalg.pinv(x), y)\n",
    "    # np.linalg.pinv(x) compute inverse matrix\n",
    "\n",
    "def sqr_error(y_hat, y):\n",
    "    return (y_hat - y) ** 2\n",
    "\n",
    "def get_error(x,y,w):\n",
    "    y_hat = np.dot(x,w)\n",
    "    error = sqr_error(y_hat, y)\n",
    "    return error\n",
    "\n",
    "# 5-fold\n",
    "def k_fold(X_train,y_train,pol):\n",
    "    ws = np.array([])\n",
    "    vaild_errors = np.array([])\n",
    "    for i in range(0,5):\n",
    "        X = np.array([])\n",
    "        Y = np.array([])\n",
    "        vaild_x = np.array([])\n",
    "        vaild_y = np.array([])\n",
    "        for idx in range(0,train_size):\n",
    "            if idx / int(train_size/5) == i:\n",
    "                vaild_x = np.append(vaild_x,X_train[idx])\n",
    "                vaild_y = np.append(vaild_y,y_train[idx])\n",
    "                continue\n",
    "            X = np.append(X,X_train[idx])\n",
    "            Y = np.append(Y,y_train[idx])\n",
    "        X = X.reshape((-1,pol+1))\n",
    "        vaild_x = vaild_x.reshape((-1,pol+1))\n",
    "        w = Linear_Regression(X, Y)\n",
    "        ws = np.append(ws,w)\n",
    "        vaild_errors = np.append(vaild_errors,get_error(vaild_x,vaild_y,w))\n",
    "    ws = ws.reshape(-1,pol+1)\n",
    "    return ws, vaild_errors\n",
    "    \n",
    "#leave one out\n",
    "def leave_one_out(X_train,y_train,pol):\n",
    "    ws = np.array([])\n",
    "    vaild_errors = np.array([])\n",
    "    for idx in range(0,train_size):\n",
    "        X = np.delete(X_train,idx,0)\n",
    "        X = X.reshape((-1,pol+1))\n",
    "        Y = np.delete(y_train,idx,0)\n",
    "        w = Linear_Regression(X, Y)\n",
    "        ws = np.append(ws,w)\n",
    "        vaild_errors = np.append(vaild_errors,get_error(X_train[idx],y_train[idx],w))\n",
    "    ws = ws.reshape(-1,pol+1)\n",
    "    return ws,vaild_errors\n"
   ]
  },
  {
   "cell_type": "code",
   "execution_count": 4,
   "metadata": {},
   "outputs": [
    {
     "name": "stdout",
     "output_type": "stream",
     "text": [
      "Train error : 0.41766997803809347\n",
      "5-fold Cross-Vaildation error : 0.5523866852512798\n",
      "leave one out Cross-Vaildation error : 34.642059175172214\n",
      "Test error : 1.6484801315160986\n"
     ]
    }
   ],
   "source": [
    "w1 = Linear_Regression(X_train,y_train)\n",
    "ve0 = get_error(X_train,y_train,w1)\n",
    "ve0 = np.sum(ve0)/ve0.shape[0]\n",
    "print ('Train error :',ve0)\n",
    "\n",
    "ws, ve1 = k_fold(X_train,y_train,pol)\n",
    "w2 = np.sum(ws,axis=0)/ws.shape[0]\n",
    "print ('5-fold Cross-Vaildation error :',np.sum(ve1)/ws.shape[0])\n",
    "\n",
    "ws, ve2 = leave_one_out(X_train,y_train,pol)\n",
    "w3 = np.sum(ws,axis=0)/ws.shape[0]\n",
    "print ('leave one out Cross-Vaildation error :',np.sum(ve2)/ws.shape[0])\n",
    "\n",
    "ve3 = get_error(X_test,y_test,w1)\n",
    "ve3 = np.sum(ve3)/ve3.shape[0]\n",
    "print ('Test error :',ve3)"
   ]
  },
  {
   "cell_type": "code",
   "execution_count": 5,
   "metadata": {},
   "outputs": [
    {
     "data": {
      "image/png": "[encoded data removed]",
      "text/plain": [
       "<Figure size 432x288 with 1 Axes>"
      ]
     },
     "metadata": {
      "needs_background": "light"
     },
     "output_type": "display_data"
    }
   ],
   "source": [
    "import matplotlib.pyplot as plt\n",
    "import os\n",
    "plt.title('y = 2x + ε , x = [-3,3] , ε =  N(0,1)')\n",
    "# plt.title('y = sin(2πx) +ε  , x = [0,1] , ε =  N(0,0.04)')\n",
    "plt.scatter(X_train[:,-2], y_train, s=25, c='g', alpha = 0.6)\n",
    "plt.scatter(X_test[:,-2], y_test, s=25, c='r', alpha = 0.6)\n",
    "X = np.arange(-3,3,0.01)\n",
    "X = power_mat(X,pol)\n",
    "Y1 = np.dot (X, w1)\n",
    "Y2 = np.dot (X, w2)\n",
    "Y3 = np.dot (X, w3)\n",
    "\n",
    "plt.xlim((-0.1,1.1))\n",
    "plt.ylim((-8, 8))\n",
    "\n",
    "plt.plot(X[:,-2],Y1,lw=1 , c = 'purple',alpha = 0.6)\n",
    "plt.plot(X[:,-2],Y2,lw=1)\n",
    "plt.plot(X[:,-2],Y3,lw=1)\n",
    "\n",
    "plt.legend(['Just Train','5 fold','leave one out','Train Data','Test Data'], loc='lower right')\n",
    "plt.savefig(\"{}/ML_HW1(e_{}_{}_1).png\".format(os.getcwd(),pol,data_size),dpi=1000)"
   ]
  },
  {
   "cell_type": "code",
   "execution_count": 6,
   "metadata": {},
   "outputs": [
    {
     "name": "stdout",
     "output_type": "stream",
     "text": [
      "[[1. 2. 3.]\n",
      " [4. 5. 6.]\n",
      " [7. 8. 9.]]\n"
     ]
    }
   ],
   "source": [
    "m = 20\n",
    "λ = 0\n",
    "# λ = 0.001/m\n",
    "# λ = 1/m\n",
    "# λ = 1000/m\n",
    "\n",
    "a = [[1,2,3],[4,5,6],[7,8,9]] \n",
    "at = np.transpose(a)\n",
    "b = np.identity(3)\n",
    "\n",
    "# ans = np.linalg.pinv(np.dot(a,at) + b * λ) * at * a\n",
    "ans = np.dot(np.dot(np.linalg.pinv(np.dot(at, a) + b * λ), at), a)\n",
    "\n",
    "print (np.dot(a,ans))\n",
    "\n",
    "\n"
   ]
  },
  {
   "cell_type": "code",
   "execution_count": 7,
   "metadata": {},
   "outputs": [
    {
     "name": "stdout",
     "output_type": "stream",
     "text": [
      "[[ 0.83333333  0.33333333 -0.16666667]\n",
      " [ 0.33333333  0.33333333  0.33333333]\n",
      " [-0.16666667  0.33333333  0.83333333]]\n",
      "[[ 0.83333333  0.33333333 -0.16666667]\n",
      " [ 0.33333333  0.33333333  0.33333333]\n",
      " [-0.16666667  0.33333333  0.83333333]]\n"
     ]
    }
   ],
   "source": [
    "def LR2(x,y):\n",
    "    return np.dot(np.dot(np.linalg.pinv(np.dot(x.T, x)), x.T), y)\n",
    "    \n",
    "def Linear_Regression(x, y):\n",
    "    return np.dot(np.linalg.pinv(x), y)\n",
    "\n",
    "a = np.array(a)\n",
    "print(LR2(a,a))\n",
    "print(Linear_Regression(a,a))"
   ]
  },
  {
   "cell_type": "code",
   "execution_count": 8,
   "metadata": {},
   "outputs": [
    {
     "ename": "ValueError",
     "evalue": "operands could not be broadcast together with shapes (3,3) (0,) ",
     "output_type": "error",
     "traceback": [
      "\u001b[0;31m---------------------------------------------------------------------------\u001b[0m",
      "\u001b[0;31mValueError\u001b[0m                                Traceback (most recent call last)",
      "\u001b[0;32m<ipython-input-8-2c32df8922dd>\u001b[0m in \u001b[0;36m<module>\u001b[0;34m\u001b[0m\n\u001b[1;32m     17\u001b[0m \u001b[0ma\u001b[0m \u001b[0;34m=\u001b[0m \u001b[0;34m[\u001b[0m\u001b[0;34m[\u001b[0m\u001b[0;36m1\u001b[0m\u001b[0;34m,\u001b[0m\u001b[0;36m2\u001b[0m\u001b[0;34m,\u001b[0m\u001b[0;36m3\u001b[0m\u001b[0;34m]\u001b[0m\u001b[0;34m,\u001b[0m\u001b[0;34m[\u001b[0m\u001b[0;36m4\u001b[0m\u001b[0;34m,\u001b[0m\u001b[0;36m5\u001b[0m\u001b[0;34m,\u001b[0m\u001b[0;36m6\u001b[0m\u001b[0;34m]\u001b[0m\u001b[0;34m,\u001b[0m\u001b[0;34m[\u001b[0m\u001b[0;36m7\u001b[0m\u001b[0;34m,\u001b[0m\u001b[0;36m8\u001b[0m\u001b[0;34m,\u001b[0m\u001b[0;36m9\u001b[0m\u001b[0;34m]\u001b[0m\u001b[0;34m]\u001b[0m\u001b[0;34m\u001b[0m\u001b[0;34m\u001b[0m\u001b[0m\n\u001b[1;32m     18\u001b[0m \u001b[0;34m\u001b[0m\u001b[0m\n\u001b[0;32m---> 19\u001b[0;31m \u001b[0mprint\u001b[0m \u001b[0;34m(\u001b[0m\u001b[0mnp\u001b[0m\u001b[0;34m.\u001b[0m\u001b[0mdot\u001b[0m\u001b[0;34m(\u001b[0m\u001b[0ma\u001b[0m\u001b[0;34m,\u001b[0m\u001b[0mRidge_Regression\u001b[0m\u001b[0;34m(\u001b[0m\u001b[0ma\u001b[0m\u001b[0;34m,\u001b[0m \u001b[0ma\u001b[0m\u001b[0;34m,\u001b[0m \u001b[0mλ\u001b[0m\u001b[0;34m)\u001b[0m\u001b[0;34m)\u001b[0m\u001b[0;34m)\u001b[0m\u001b[0;34m\u001b[0m\u001b[0;34m\u001b[0m\u001b[0m\n\u001b[0m",
      "\u001b[0;32m<ipython-input-8-2c32df8922dd>\u001b[0m in \u001b[0;36mRidge_Regression\u001b[0;34m(x, y, λ)\u001b[0m\n\u001b[1;32m      1\u001b[0m \u001b[0;32mdef\u001b[0m \u001b[0mRidge_Regression\u001b[0m\u001b[0;34m(\u001b[0m\u001b[0mx\u001b[0m\u001b[0;34m,\u001b[0m \u001b[0my\u001b[0m\u001b[0;34m,\u001b[0m \u001b[0mλ\u001b[0m\u001b[0;34m)\u001b[0m\u001b[0;34m:\u001b[0m\u001b[0;34m\u001b[0m\u001b[0;34m\u001b[0m\u001b[0m\n\u001b[1;32m      2\u001b[0m     \u001b[0mxt\u001b[0m \u001b[0;34m=\u001b[0m \u001b[0mnp\u001b[0m\u001b[0;34m.\u001b[0m\u001b[0mtranspose\u001b[0m\u001b[0;34m(\u001b[0m\u001b[0mx\u001b[0m\u001b[0;34m)\u001b[0m\u001b[0;34m\u001b[0m\u001b[0;34m\u001b[0m\u001b[0m\n\u001b[0;32m----> 3\u001b[0;31m     \u001b[0;32mreturn\u001b[0m \u001b[0mnp\u001b[0m\u001b[0;34m.\u001b[0m\u001b[0mdot\u001b[0m\u001b[0;34m(\u001b[0m\u001b[0mnp\u001b[0m\u001b[0;34m.\u001b[0m\u001b[0mdot\u001b[0m\u001b[0;34m(\u001b[0m\u001b[0mnp\u001b[0m\u001b[0;34m.\u001b[0m\u001b[0mlinalg\u001b[0m\u001b[0;34m.\u001b[0m\u001b[0mpinv\u001b[0m\u001b[0;34m(\u001b[0m\u001b[0mnp\u001b[0m\u001b[0;34m.\u001b[0m\u001b[0mdot\u001b[0m\u001b[0;34m(\u001b[0m\u001b[0mxt\u001b[0m\u001b[0;34m,\u001b[0m \u001b[0mx\u001b[0m\u001b[0;34m)\u001b[0m \u001b[0;34m+\u001b[0m \u001b[0my\u001b[0m \u001b[0;34m*\u001b[0m \u001b[0mλ\u001b[0m\u001b[0;34m)\u001b[0m\u001b[0;34m,\u001b[0m \u001b[0mxt\u001b[0m\u001b[0;34m)\u001b[0m\u001b[0;34m,\u001b[0m \u001b[0mx\u001b[0m\u001b[0;34m)\u001b[0m\u001b[0;34m\u001b[0m\u001b[0;34m\u001b[0m\u001b[0m\n\u001b[0m\u001b[1;32m      4\u001b[0m \u001b[0;34m\u001b[0m\u001b[0m\n\u001b[1;32m      5\u001b[0m \u001b[0mm\u001b[0m \u001b[0;34m=\u001b[0m \u001b[0;36m20\u001b[0m\u001b[0;34m\u001b[0m\u001b[0;34m\u001b[0m\u001b[0m\n",
      "\u001b[0;31mValueError\u001b[0m: operands could not be broadcast together with shapes (3,3) (0,) "
     ]
    }
   ],
   "source": [
    "def Ridge_Regression(x, y, λ):\n",
    "    xt = np.transpose(x)\n",
    "    return np.dot(np.dot(np.linalg.pinv(np.dot(xt, x) + y * λ), xt), x)\n",
    "\n",
    "m = 20\n",
    "λ = 0\n",
    "# λ = 0.001/m\n",
    "# λ = 1/m\n",
    "# λ = 1000/m\n",
    "\n",
    "m = 20\n",
    "λ = 0\n",
    "# λ = 0.001/m\n",
    "# λ = 1/m\n",
    "# λ = 1000/m\n",
    "\n",
    "a = [[1,2,3],[4,5,6],[7,8,9]] \n",
    "\n",
    "print (np.dot(a,Ridge_Regression(a, a, λ)))"
   ]
  },
  {
   "cell_type": "code",
   "execution_count": null,
   "metadata": {},
   "outputs": [],
   "source": []
  },
  {
   "cell_type": "code",
   "execution_count": null,
   "metadata": {},
   "outputs": [],
   "source": []
  }
 ],
 "metadata": {
  "kernelspec": {
   "display_name": "Python 3",
   "language": "python",
   "name": "python3"
  },
  "language_info": {
   "codemirror_mode": {
    "name": "ipython",
    "version": 3
   },
   "file_extension": ".py",
   "mimetype": "text/x-python",
   "name": "python",
   "nbconvert_exporter": "python",
   "pygments_lexer": "ipython3",
   "version": "3.7.6"
  }
 },
 "nbformat": 4,
 "nbformat_minor": 4
}
