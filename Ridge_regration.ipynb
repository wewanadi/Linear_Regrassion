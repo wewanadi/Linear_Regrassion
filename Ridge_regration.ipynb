{
 "cells": [
  {
   "cell_type": "code",
   "execution_count": 1,
   "metadata": {},
   "outputs": [],
   "source": [
    "data_size = 20\n",
    "test_size = int(data_size*0.25)\n",
    "train_size = int(data_size*0.75)\n",
    "import numpy as np\n",
    "\n",
    "x = np.linspace(0,1,data_size)\n",
    "ε = np.random.normal(0,1,size=(data_size))\n",
    "y = 2 * x + ε"
   ]
  },
  {
   "cell_type": "code",
   "execution_count": 62,
   "metadata": {},
   "outputs": [],
   "source": [
    "from sklearn.model_selection import train_test_split\n",
    "X_train, X_test, y_train, y_test = train_test_split(x, y,test_size=0.25,random_state =3 ,shuffle=True)\n",
    "\n",
    "# λ = 0\n",
    "# λ = 0.001/data_size\n",
    "# λ = 1/data_size\n",
    "λ = 1000/data_size\n",
    "pol = 14\n",
    "def power_mat(x,pol):\n",
    "    pol += 1\n",
    "    matrix = np.array([])\n",
    "    for i in range(len(x)):\n",
    "        tmp_lst = []\n",
    "        for p in reversed(range(pol)):\n",
    "            tmp_lst += [x[i] ** p]\n",
    "        matrix = np.append(matrix, np.array(tmp_lst))\n",
    "    matrix = matrix.reshape(-1, pol)\n",
    "    return matrix\n",
    "    \n",
    "X_train = power_mat (X_train,pol)\n",
    "X_test = power_mat (X_test,pol)"
   ]
  },
  {
   "cell_type": "code",
   "execution_count": 63,
   "metadata": {},
   "outputs": [],
   "source": [
    "def Ridge_Regression(x, y, λ):\n",
    "    xt = np.transpose(x)\n",
    "    b = np.identity(pol+1)\n",
    "    return np.dot(np.dot(np.linalg.pinv(np.dot(xt, x) + b * λ), xt), y)\n",
    "\n",
    "def sqr_error(y_hat, y):\n",
    "    return (y_hat - y) ** 2\n",
    "\n",
    "def get_error(x,y,w):\n",
    "    y_hat = np.dot(x,w)\n",
    "    error = sqr_error(y_hat, y)\n",
    "    return error\n",
    "\n",
    "# 5-fold\n",
    "def k_fold(X_train,y_train,pol):\n",
    "    ws = np.array([])\n",
    "    vaild_errors = np.array([])\n",
    "    for i in range(0,5):\n",
    "        X = np.array([])\n",
    "        Y = np.array([])\n",
    "        vaild_x = np.array([])\n",
    "        vaild_y = np.array([])\n",
    "        for idx in range(0,train_size):\n",
    "            if idx / int(train_size/5) == i:\n",
    "                vaild_x = np.append(vaild_x,X_train[idx])\n",
    "                vaild_y = np.append(vaild_y,y_train[idx])\n",
    "                continue\n",
    "            X = np.append(X,X_train[idx])\n",
    "            Y = np.append(Y,y_train[idx])\n",
    "        X = X.reshape((-1,pol+1))\n",
    "        vaild_x = vaild_x.reshape((-1,pol+1))\n",
    "        w = Ridge_Regression(X, Y, λ)\n",
    "        ws = np.append(ws,w)\n",
    "        vaild_errors = np.append(vaild_errors,get_error(vaild_x,vaild_y,w))\n",
    "    ws = ws.reshape(-1,pol+1)\n",
    "    return ws, vaild_errors\n",
    "    \n",
    "#leave one out\n",
    "def leave_one_out(X_train,y_train,pol):\n",
    "    ws = np.array([])\n",
    "    vaild_errors = np.array([])\n",
    "    for idx in range(0,train_size):\n",
    "        X = np.delete(X_train,idx,0)\n",
    "        X = X.reshape((-1,pol+1))\n",
    "        Y = np.delete(y_train,idx,0)\n",
    "        w = Ridge_Regression(X, Y, λ)\n",
    "        ws = np.append(ws,w)\n",
    "        vaild_errors = np.append(vaild_errors,get_error(X_train[idx],y_train[idx],w))\n",
    "    ws = ws.reshape(-1,pol+1)\n",
    "    return ws,vaild_errors\n"
   ]
  },
  {
   "cell_type": "code",
   "execution_count": 64,
   "metadata": {},
   "outputs": [
    {
     "name": "stdout",
     "output_type": "stream",
     "text": [
      "Train error : 1.387373709869004\n",
      "5-fold Cross-Vaildation error : 1.6341548276723088\n",
      "leave one out Cross-Vaildation error : 1.5663099350899408\n",
      "Test error : 0.703051298839177\n"
     ]
    }
   ],
   "source": [
    "w1 = Ridge_Regression(X_train,y_train, λ)\n",
    "ve0 = get_error(X_train,y_train,w1)\n",
    "ve0 = np.sum(ve0)/ve0.shape[0]\n",
    "print ('Train error :',ve0)\n",
    "\n",
    "ws, ve1 = k_fold(X_train,y_train,pol)\n",
    "w2 = np.sum(ws,axis=0)/ws.shape[0]\n",
    "print ('5-fold Cross-Vaildation error :',np.sum(ve1)/ws.shape[0])\n",
    "\n",
    "ws, ve2 = leave_one_out(X_train,y_train,pol)\n",
    "w3 = np.sum(ws,axis=0)/ws.shape[0]\n",
    "print ('leave one out Cross-Vaildation error :',np.sum(ve2)/ws.shape[0])\n",
    "\n",
    "ve3 = get_error(X_test,y_test,w1)\n",
    "ve3 = np.sum(ve3)/ve3.shape[0]\n",
    "print ('Test error :',ve3)"
   ]
  },
  {
   "cell_type": "code",
   "execution_count": 65,
   "metadata": {},
   "outputs": [
    {
     "data": {
      "image/png": "[encoded data removed]",
      "text/plain": [
       "<Figure size 432x288 with 1 Axes>"
      ]
     },
     "metadata": {
      "needs_background": "light"
     },
     "output_type": "display_data"
    }
   ],
   "source": [
    "import matplotlib.pyplot as plt\n",
    "import os\n",
    "plt.title('y = 2x + ε , x = [0,1] , ε =  N(0,1)')\n",
    "# plt.title('y = sin(2πx) +ε  , x = [0,1] , ε =  N(0,0.04)')\n",
    "plt.scatter(X_train[:,-2], y_train, s=25, c='g', alpha = 0.6)\n",
    "plt.scatter(X_test[:,-2], y_test, s=25, c='r', alpha = 0.6)\n",
    "X = np.arange(-3,3,0.01)\n",
    "X = power_mat(X,pol)\n",
    "Y1 = np.dot (X, w1)\n",
    "Y2 = np.dot (X, w2)\n",
    "Y3 = np.dot (X, w3)\n",
    "\n",
    "plt.xlim((-0.1,1.1))\n",
    "plt.ylim((-8, 8))\n",
    "\n",
    "plt.plot(X[:,-2],Y1,lw=1 , c = 'purple',alpha = 0.6)\n",
    "plt.plot(X[:,-2],Y2,lw=1)\n",
    "plt.plot(X[:,-2],Y3,lw=1)\n",
    "\n",
    "plt.legend(['Just Train','5 fold','leave one out','Train Data','Test Data'], loc='lower right')\n",
    "plt.savefig(\"{}/ML_HW1(e_{}_{}_3).png\".format(os.getcwd(),pol,data_size),dpi=1000)"
   ]
  },
  {
   "cell_type": "code",
   "execution_count": null,
   "metadata": {},
   "outputs": [],
   "source": []
  },
  {
   "cell_type": "code",
   "execution_count": null,
   "metadata": {},
   "outputs": [],
   "source": []
  },
  {
   "cell_type": "code",
   "execution_count": null,
   "metadata": {},
   "outputs": [],
   "source": []
  }
 ],
 "metadata": {
  "kernelspec": {
   "display_name": "Python 3",
   "language": "python",
   "name": "python3"
  },
  "language_info": {
   "codemirror_mode": {
    "name": "ipython",
    "version": 3
   },
   "file_extension": ".py",
   "mimetype": "text/x-python",
   "name": "python",
   "nbconvert_exporter": "python",
   "pygments_lexer": "ipython3",
   "version": "3.7.6"
  }
 },
 "nbformat": 4,
 "nbformat_minor": 4
}
